{
 "cells": [
  {
   "metadata": {},
   "cell_type": "markdown",
   "source": [
    "# Data Analysis Notebook\n",
    "\n",
    "This notebook provides an exploratory analysis of the real estate sales dataset. Key objectives include examining the distribution of target audiences (ЦА) across different months, uncovering data patterns, and supporting further machine learning work.\n"
   ],
   "id": "b7ff6fa3fc93a8af"
  },
  {
   "metadata": {
    "ExecuteTime": {
     "end_time": "2025-10-10T10:55:54.420286Z",
     "start_time": "2025-10-10T10:55:54.099229Z"
    }
   },
   "cell_type": "code",
   "source": [
    "import pandas as pd\n",
    "import numpy as np\n",
    "import matplotlib.pyplot as plt\n",
    "\n",
    "df = pd.read_excel('../data/data.xlsx', sheet_name='Данные')\n",
    "\n",
    "print(\"Data shape:\", df.shape)\n",
    "print(df.info())"
   ],
   "id": "b4eac31502c70dcf",
   "outputs": [
    {
     "name": "stdout",
     "output_type": "stream",
     "text": [
      "Data shape: (13, 16)\n",
      "       Время      ЦА 1      ЦА 2      ЦА 3      ЦА 4  Параметр квартир 1  \\\n",
      "0 2024-07-01  0.909091  0.045455  0.045455  0.000000               305.0   \n",
      "1 2024-08-01  0.857143  0.023810  0.071429  0.047619               300.0   \n",
      "2 2024-09-01  0.875000  0.050000  0.075000  0.000000               298.0   \n",
      "3 2024-10-01  0.972222  0.027778  0.000000  0.000000               300.0   \n",
      "4 2024-11-01  0.848485  0.121212  0.030303  0.000000               302.0   \n",
      "\n",
      "   Параметр квартир 2  Внешний фактор 1  Внешний фактор 2  Внешний фактор 3  \\\n",
      "0                42.2              6325             29920             64548   \n",
      "1                41.8              8859             29940              6014   \n",
      "2                41.7              9765             32017              5943   \n",
      "3                41.6             10536             39279              6388   \n",
      "4                41.4             10814             40948              7156   \n",
      "\n",
      "   Внешний фактор 4  Студии  1 комн  2 комн  3 комн и более  Целевые сделки  \n",
      "0              16.0     104     466     325              79             974  \n",
      "1              18.0     188     701     535             113            1537  \n",
      "2              18.5     265     854     550             139            1830  \n",
      "3              19.0     389     976     663             168            2196  \n",
      "4              21.0     637    1296     737             132            2802  \n",
      "<class 'pandas.core.frame.DataFrame'>\n",
      "RangeIndex: 13 entries, 0 to 12\n",
      "Data columns (total 16 columns):\n",
      " #   Column              Non-Null Count  Dtype         \n",
      "---  ------              --------------  -----         \n",
      " 0   Время               13 non-null     datetime64[ns]\n",
      " 1   ЦА 1                13 non-null     float64       \n",
      " 2   ЦА 2                13 non-null     float64       \n",
      " 3   ЦА 3                13 non-null     float64       \n",
      " 4   ЦА 4                13 non-null     float64       \n",
      " 5   Параметр квартир 1  13 non-null     float64       \n",
      " 6   Параметр квартир 2  13 non-null     float64       \n",
      " 7   Внешний фактор 1    13 non-null     int64         \n",
      " 8   Внешний фактор 2    13 non-null     int64         \n",
      " 9   Внешний фактор 3    13 non-null     int64         \n",
      " 10  Внешний фактор 4    13 non-null     float64       \n",
      " 11  Студии              13 non-null     int64         \n",
      " 12  1 комн              13 non-null     int64         \n",
      " 13  2 комн              13 non-null     int64         \n",
      " 14  3 комн и более      13 non-null     int64         \n",
      " 15  Целевые сделки      13 non-null     int64         \n",
      "dtypes: datetime64[ns](1), float64(7), int64(8)\n",
      "memory usage: 1.8 KB\n",
      "None\n"
     ]
    }
   ],
   "execution_count": 5
  },
  {
   "metadata": {},
   "cell_type": "code",
   "outputs": [],
   "execution_count": null,
   "source": "",
   "id": "8a5a61a08493f303"
  }
 ],
 "metadata": {
  "kernelspec": {
   "display_name": "Python 3",
   "language": "python",
   "name": "python3"
  },
  "language_info": {
   "codemirror_mode": {
    "name": "ipython",
    "version": 2
   },
   "file_extension": ".py",
   "mimetype": "text/x-python",
   "name": "python",
   "nbconvert_exporter": "python",
   "pygments_lexer": "ipython2",
   "version": "2.7.6"
  }
 },
 "nbformat": 4,
 "nbformat_minor": 5
}
